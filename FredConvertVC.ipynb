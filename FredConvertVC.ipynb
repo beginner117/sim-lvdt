{
 "cells": [
  {
   "cell_type": "code",
   "execution_count": 1,
   "id": "bbbd1d0c-ce7d-43d1-8ba0-ed4b0ee9bef4",
   "metadata": {},
   "outputs": [
    {
     "name": "stdout",
     "output_type": "stream",
     "text": [
      "10 1.0 1.0\n",
      "[-5. -4. -3. -2. -1.  0.  1.  2.  3.  4.  5.]\n",
      "[-0.25597249 -0.26180904 -0.26707197 -0.27166713 -0.275527   -0.27852746\n",
      " -0.28071912 -0.28186799 -0.2820605  -0.28112431 -0.27913308]\n",
      "[-0.33611208 -0.33821187 -0.33910309 -0.33895361 -0.33779515 -0.33560406\n",
      " -0.33251241 -0.3286823  -0.32410891 -0.31877017 -0.31300518]\n",
      "[0.59321119 0.60081564 0.60644646 0.61063953 0.61227978 0.6125715\n",
      " 0.61367542 0.60912415 0.60728256 0.59873485 0.59143044]\n"
     ]
    }
   ],
   "source": [
    "import numpy as np\n",
    "\n",
    "directory = \"C:\\\\Users\\lvdt\\RevLVDT_VIRGOmodel_TEST\\FEMM_LUA_Sources_and_Data\\\\\"\n",
    "filename = \"Results_RevLVDT_FEMM_DC_Move_MiddCoil+Magnet_ETpfLVDT.txt\"\n",
    "outputfile = \"NP\" + filename\n",
    "\n",
    "OutCoil_Current = 0\n",
    "NSteps = 0\n",
    "InnCoil_Positions = []\n",
    "UppOutCoil_Forces = []\n",
    "LowOutCoil_Forces = []\n",
    "Magnet_Forces = []\n",
    "\n",
    "with open(directory + filename) as f:\n",
    "    for line in f:\n",
    "        if \"Excit.current\" in line: OutCoil_Current = float(line.split(\" \")[3])\n",
    "        if \"Nr steps:\" in line: NSteps = int(line.split(\":\")[1])\n",
    "        str_array = line.split(\"\\t\")\n",
    "        if len(str_array) == 5 and str_array[0] != \"Step\":\n",
    "            #print(line)\n",
    "            InnCoil_Positions.append(float(str_array[1]))\n",
    "            UppOutCoil_Forces.append(float(str_array[2]))\n",
    "            LowOutCoil_Forces.append(float(str_array[3]))\n",
    "            Magnet_Forces.append(float(str_array[4]))\n",
    "\n",
    "f.close()\n",
    "\n",
    "MetaData = np.zeros(NSteps+1)\n",
    "StepSize = InnCoil_Positions[1] - InnCoil_Positions[0]\n",
    "print(NSteps, StepSize, OutCoil_Current)\n",
    "InnCoil_Positions = np.array(InnCoil_Positions)\n",
    "UppOutCoil_Forces = np.array(UppOutCoil_Forces)\n",
    "LowOutCoil_Forces = np.array(LowOutCoil_Forces)\n",
    "Magnet_Forces = np.array(Magnet_Forces)\n",
    "print(InnCoil_Positions)\n",
    "print(UppOutCoil_Forces)\n",
    "print(LowOutCoil_Forces)\n",
    "print(Magnet_Forces)\n",
    "\n",
    "if NSteps > 2:\n",
    "    MetaData[0] = NSteps\n",
    "    MetaData[1] = StepSize\n",
    "    MetaData[2] = OutCoil_Current\n",
    "    np.savetxt(outputfile, (InnCoil_Positions, UppOutCoil_Forces, LowOutCoil_Forces, Magnet_Forces, MetaData))"
   ]
  },
  {
   "cell_type": "code",
   "execution_count": null,
   "id": "013f56bf-7af5-4c49-88af-b0db1ccb05fa",
   "metadata": {},
   "outputs": [],
   "source": []
  }
 ],
 "metadata": {
  "kernelspec": {
   "display_name": "Python 3",
   "language": "python",
   "name": "python3"
  },
  "language_info": {
   "codemirror_mode": {
    "name": "ipython",
    "version": 3
   },
   "file_extension": ".py",
   "mimetype": "text/x-python",
   "name": "python",
   "nbconvert_exporter": "python",
   "pygments_lexer": "ipython3",
   "version": "3.7.3"
  }
 },
 "nbformat": 4,
 "nbformat_minor": 5
}
