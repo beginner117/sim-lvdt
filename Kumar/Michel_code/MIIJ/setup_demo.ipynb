{
 "cells": [
  {
   "cell_type": "code",
   "execution_count": 1,
   "metadata": {},
   "outputs": [],
   "source": [
    "import sys\n",
    "sys.dont_write_bytecode = True\n",
    "sys.path.append('../pylvdt/modules/')\n",
    "from pyLVDT.LVDTController import LVDTController\n",
    "from DAQBox.DAQClient import DAQClient\n",
    "daq = DAQClient()\n",
    "setup = LVDTController()\n"
   ]
  },
  {
   "cell_type": "code",
   "execution_count": null,
   "metadata": {},
   "outputs": [],
   "source": [
    "daq_data = daq.adc_data(channels=[\"ACL_ADC_ch00\"], period=1, wait=True)"
   ]
  },
  {
   "cell_type": "code",
   "execution_count": null,
   "metadata": {},
   "outputs": [],
   "source": [
    "print(setup.openPI())\n",
    "print(setup.openSerial())"
   ]
  },
  {
   "cell_type": "code",
   "execution_count": null,
   "metadata": {},
   "outputs": [],
   "source": [
    "print(setup.initPI())"
   ]
  },
  {
   "cell_type": "code",
   "execution_count": null,
   "metadata": {},
   "outputs": [],
   "source": [
    "setup.movePI(25,25)\n",
    "setup.measurePI()"
   ]
  },
  {
   "cell_type": "code",
   "execution_count": null,
   "metadata": {},
   "outputs": [],
   "source": [
    "print(setup.closePI())\n",
    "print(setup.closeSerial())"
   ]
  },
  {
   "cell_type": "code",
   "execution_count": null,
   "metadata": {},
   "outputs": [],
   "source": [
    "lvdt_data = setup.get_lvdt_data(wait_time=10)"
   ]
  }
 ],
 "metadata": {
  "kernelspec": {
   "display_name": "Python 3.9.13 ('lvdt_env': venv)",
   "language": "python",
   "name": "python3"
  },
  "language_info": {
   "codemirror_mode": {
    "name": "ipython",
    "version": 3
   },
   "file_extension": ".py",
   "mimetype": "text/x-python",
   "name": "python",
   "nbconvert_exporter": "python",
   "pygments_lexer": "ipython3",
   "version": "3.9.13"
  },
  "orig_nbformat": 4,
  "vscode": {
   "interpreter": {
    "hash": "6f6c9f75524949dc74dc27c681717b593c048b8b282b5cd38ec34354c0c41b29"
   }
  }
 },
 "nbformat": 4,
 "nbformat_minor": 2
}
