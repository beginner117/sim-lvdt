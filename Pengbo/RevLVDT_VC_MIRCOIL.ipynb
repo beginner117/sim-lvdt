{
 "cells": [
  {
   "attachments": {},
   "cell_type": "markdown",
   "id": "819a6eaa",
   "metadata": {},
   "source": [
    "## RevLVDT + VC Simulation"
   ]
  },
  {
   "cell_type": "code",
   "execution_count": 1,
   "id": "b9dccb98",
   "metadata": {
    "ExecuteTime": {
     "end_time": "2023-08-03T08:28:21.937538400Z",
     "start_time": "2023-08-03T08:28:20.425121Z"
    }
   },
   "outputs": [],
   "source": [
    "import femm\n",
    "import numpy as np\n",
    "import cmath\n",
    "import scipy.optimize as opt\n",
    "import matplotlib.pyplot as plt\n",
    "\n",
    "# The package must be initialized with the openfemm command.\n",
    "femm.openfemm()\n",
    "\n",
    "# We need to create a new Magnetostatics document to work on.\n",
    "femm.newdocument(0)"
   ]
  },
  {
   "attachments": {},
   "cell_type": "markdown",
   "id": "d55e68e1",
   "metadata": {},
   "source": [
    "#### Main Parameters"
   ]
  },
  {
   "cell_type": "code",
   "execution_count": 2,
   "id": "2189461a",
   "metadata": {},
   "outputs": [],
   "source": [
    "Description_Txt   = \"RevLVDT_VC ETpathfinder large IP geometry\"\n",
    "outputfile        = 'RevLVDT_VC_DC_1A_RSpro_40mm_single_layer_1.out'\n",
    "MIRCoil_Distance  = 0 # offset distance for MIRCoil\n",
    "MIRCoil_Current   = 1 # Put current on the MIRCoil\n",
    "SimulationFreq    = 0 # AC frequency = 0: simulate DC situation\n",
    "NSteps            = 5\n",
    "StepSize          = 1\n",
    "MIRCoil_Offset    = -20 # offset distance for MIRCoil\n",
    "\n",
    "# Define the problem type.  Magnetostatic; Units of mm; Axisymmetric; \n",
    "# Precision of 10^(-10) for the linear solver\n",
    "femm.mi_probdef( SimulationFreq, 'millimeters', 'axi', 1.0e-10)"
   ]
  },
  {
   "attachments": {},
   "cell_type": "markdown",
   "id": "9f82eca7",
   "metadata": {},
   "source": [
    "#### MIRCoil Parameters"
   ]
  },
  {
   "cell_type": "code",
   "execution_count": 8,
   "id": "8bc7700f",
   "metadata": {},
   "outputs": [],
   "source": [
    "# RS pro\n",
    "MIRCoil_WireType     = \"RS pro\"\n",
    "MIRCoil_WireDiam     = 0.2    # diameter of the wire:0.233mm\n",
    "MIRCoil_WireInsul    = 0.0165\n",
    "MIRCoil_NrWireLayers = 4\n",
    "MIRCoil_InRadius     = 10\n",
    "MIRCoil_Height       = 5.2"
   ]
  },
  {
   "attachments": {},
   "cell_type": "markdown",
   "id": "ed60cb2a",
   "metadata": {},
   "source": [
    "#### Magnet Parameters"
   ]
  },
  {
   "cell_type": "code",
   "execution_count": 4,
   "id": "ed662fc1",
   "metadata": {},
   "outputs": [],
   "source": [
    "Magnet_Length    =  40\n",
    "Magnet_Diameter  = 10\n",
    "Magnet_Material  = \"N40\"\n",
    "Magnet_VertShift =  0 "
   ]
  },
  {
   "attachments": {},
   "cell_type": "markdown",
   "id": "413f8ca0",
   "metadata": {},
   "source": [
    "#### Position calculation for all Coils"
   ]
  },
  {
   "cell_type": "code",
   "execution_count": 9,
   "id": "625cc6f2",
   "metadata": {},
   "outputs": [
    {
     "name": "stdout",
     "output_type": "stream",
     "text": [
      "MIRCoil coil:\n",
      "MIRCoil inn radius = 10.00 MIRCoil out radius = 10.93 Lower end = -2.60 Upper end = 2.60 #Windings/layer = 22.32 Total windings = 89.27\n",
      "Total length of wire (mm): 5805.059175117711\n",
      "Voice coil magnet:\n",
      "Magnet Radius = 5.00 Upper end = 20.00 Lower end = -20.00\n"
     ]
    }
   ],
   "source": [
    "# InnerCoil position \n",
    "MIRCoil_OutRadius = MIRCoil_InRadius +((MIRCoil_WireDiam + MIRCoil_WireInsul * 2) * MIRCoil_NrWireLayers)\n",
    "MIRCoil_LowEnd = (MIRCoil_Distance - MIRCoil_Height) / 2 \n",
    "MIRCoil_UppEnd = MIRCoil_LowEnd + MIRCoil_Height\n",
    "MIRCoil_NrWind_p_Layer = (MIRCoil_Height) / (MIRCoil_WireDiam + MIRCoil_WireInsul * 2)\n",
    "MIRCoil_NrWindings = MIRCoil_NrWind_p_Layer * MIRCoil_NrWireLayers\n",
    "MIRCoil_Circuit = \" MIRCoil_Circuit\"\n",
    "\n",
    "print(\"MIRCoil coil:\\n\" \n",
    "      \"MIRCoil inn radius = {:.2f}\".format(MIRCoil_InRadius), \n",
    "      \"MIRCoil out radius = {:.2f}\".format(MIRCoil_OutRadius),\n",
    "      \"Lower end = {:.2f}\".format(MIRCoil_LowEnd), \n",
    "      \"Upper end = {:.2f}\".format(MIRCoil_UppEnd),\n",
    "      \"#Windings/layer = {:.2f}\".format(MIRCoil_NrWind_p_Layer), \n",
    "      \"Total windings = {:.2f}\".format(MIRCoil_NrWindings))\n",
    "# Total length Calculation\n",
    "InnCoil_TotalWire = 0\n",
    "for i in range(0,MIRCoil_NrWireLayers):\n",
    "    #circ = 2*np.pi*InnCoil_InRadius+i*(InnCoil_WireDiam+InnCoil_WireInsul)\n",
    "    circ= 2*np.pi*(MIRCoil_InRadius+i*(MIRCoil_WireDiam+MIRCoil_WireInsul * 2))\n",
    "    InnCoil_TotalWire += circ*MIRCoil_NrWind_p_Layer    \n",
    "print(\"Total length of wire (mm):\", InnCoil_TotalWire)\n",
    "\n",
    "# Magnet Position\n",
    "Magnet_UppEnd = Magnet_Length / 2 + Magnet_VertShift\n",
    "Magnet_LowEnd = -Magnet_Length / 2 + Magnet_VertShift\n",
    "Magnet_Radius = Magnet_Diameter / 2\n",
    "\n",
    "print(\"Voice coil magnet:\\n\"\n",
    "      \"Magnet Radius = {:.2f}\".format(Magnet_Radius),\n",
    "      \"Upper end = {:.2f}\".format(Magnet_UppEnd),\n",
    "      \"Lower end = {:.2f}\".format(Magnet_LowEnd))"
   ]
  },
  {
   "attachments": {},
   "cell_type": "markdown",
   "id": "e494d85b",
   "metadata": {},
   "source": [
    "#### Build Geometry"
   ]
  },
  {
   "cell_type": "code",
   "execution_count": 6,
   "id": "64611854",
   "metadata": {},
   "outputs": [],
   "source": [
    "# MIRCoil Structure\n",
    "femm.mi_drawrectangle(MIRCoil_InRadius, MIRCoil_UppEnd, MIRCoil_OutRadius, MIRCoil_LowEnd)\n",
    "femm.mi_addcircprop(MIRCoil_Circuit, MIRCoil_Current, 1)\n",
    "## Select material\n",
    "\n",
    "# select from material library\n",
    "# femm.mi_getmaterial(MIRCoil_WireType)\n",
    "# RS pro\n",
    "femm.mi_addmaterial('RS pro', 1, 1, 0, 0, 58, 0, 0, 1, 3, 0, 0, 1, 0.2)\n",
    "femm.mi_clearselected()\n",
    "femm.mi_selectrectangle(MIRCoil_InRadius,MIRCoil_UppEnd, MIRCoil_OutRadius, MIRCoil_LowEnd, 4)\n",
    "femm.mi_setgroup(1)\n",
    "femm.mi_clearselected()\n",
    "femm.mi_addblocklabel(MIRCoil_InRadius + MIRCoil_WireDiam,MIRCoil_LowEnd + (MIRCoil_Height/2))\n",
    "femm.mi_selectlabel(  MIRCoil_InRadius + MIRCoil_WireDiam,MIRCoil_LowEnd + (MIRCoil_Height/2))\n",
    "femm.mi_setblockprop(MIRCoil_WireType, 1, 0, MIRCoil_Circuit, 0, 1 ,MIRCoil_NrWindings)\n",
    "femm.mi_clearselected()\n",
    "\n",
    "\n",
    "# Magnet Structure\n",
    "femm.mi_drawrectangle(0, Magnet_UppEnd, Magnet_Radius,Magnet_LowEnd)\n",
    "femm.mi_getmaterial(Magnet_Material)\n",
    "femm.mi_clearselected()\n",
    "femm.mi_selectrectangle(0, Magnet_UppEnd, Magnet_Radius,Magnet_LowEnd, 4)\n",
    "femm.mi_setgroup(2)\n",
    "femm.mi_clearselected()\n",
    "femm.mi_addblocklabel(Magnet_Radius*0.5, Magnet_LowEnd+(Magnet_Length*0.5))\n",
    "femm.mi_selectlabel(  Magnet_Radius*0.5, Magnet_LowEnd+(Magnet_Length*0.5))\n",
    "femm.mi_setblockprop(Magnet_Material, 0, 0.1, \"\", 90, 2, 0)\n",
    "femm.mi_clearselected()\n",
    "\n",
    "# AirSurrounding Structure\n",
    "AirSpaceRadius_1 = 100\n",
    "AirSpaceRadius_2 = 300\n",
    "BC_Name = \"Outside\"\n",
    "BC_Group = 10\n",
    "# Airspace1\n",
    "femm.mi_drawline(0, AirSpaceRadius_1, 0, -AirSpaceRadius_1)\n",
    "femm.mi_drawarc(0, -AirSpaceRadius_1, 0, AirSpaceRadius_1, 180, 2)\n",
    "femm.mi_getmaterial(\"Air\")       \n",
    "femm.mi_clearselected()\n",
    "femm.mi_addblocklabel(AirSpaceRadius_1/4, AirSpaceRadius_1/2)\n",
    "femm.mi_selectlabel(  AirSpaceRadius_1/4, AirSpaceRadius_1/2)\n",
    "femm.mi_setblockprop(\"Air\", 0, 0.5, '', 0, 0, 0)\n",
    "femm.mi_clearselected()\n",
    "# Airspace2              \n",
    "femm.mi_drawline(0, AirSpaceRadius_2, 0, -AirSpaceRadius_2)\n",
    "femm.mi_drawarc(0, -AirSpaceRadius_2, 0, AirSpaceRadius_2, 180, 2)\n",
    "femm.mi_getmaterial(\"Air\")  \n",
    "femm.mi_clearselected()\n",
    "femm.mi_addblocklabel(AirSpaceRadius_2/2, AirSpaceRadius_2/1.2)\n",
    "femm.mi_selectlabel(  AirSpaceRadius_2/2, AirSpaceRadius_2/1.2)\n",
    "femm.mi_setblockprop(\"Air\", 1, 0, '', 0, 0, 0)\n",
    "femm.mi_clearselected()\n",
    "# Boundary properties\n",
    "femm.mi_addboundprop(BC_Name, 0, 0, 0, 0, 0, 0, 0, 0, 0, 0, 0)\n",
    "femm.mi_clearselected()\n",
    "femm.mi_selectarcsegment(0, AirSpaceRadius_2)\n",
    "femm.mi_setarcsegmentprop(2, BC_Name, 0, BC_Group)               \n",
    "femm.mi_clearselected()\n"
   ]
  },
  {
   "attachments": {},
   "cell_type": "markdown",
   "id": "792158d4",
   "metadata": {},
   "source": [
    "#### Start Simulation and change the inner coil position"
   ]
  },
  {
   "attachments": {},
   "cell_type": "markdown",
   "id": "29d72930",
   "metadata": {},
   "source": [
    "Output variables"
   ]
  },
  {
   "cell_type": "code",
   "execution_count": null,
   "id": "f38a949b",
   "metadata": {},
   "outputs": [],
   "source": [
    "MIRCoil_Forces = np.zeros(NSteps+1)\n",
    "Magnet_Forces = np.zeros(NSteps+1)\n",
    "MIRCoil_Positions = np.zeros(NSteps+1)\n",
    "MetaData = np.zeros(NSteps+1)"
   ]
  },
  {
   "attachments": {},
   "cell_type": "markdown",
   "id": "562f23fd",
   "metadata": {},
   "source": [
    "Initial Offset position"
   ]
  },
  {
   "cell_type": "code",
   "execution_count": null,
   "id": "ec981409",
   "metadata": {},
   "outputs": [],
   "source": [
    "femm.mi_selectgroup(1)\n",
    "femm.mi_movetranslate(0, MIRCoil_Offset)\n",
    "femm.mi_clearselected()"
   ]
  },
  {
   "attachments": {},
   "cell_type": "markdown",
   "id": "4e220417",
   "metadata": {},
   "source": [
    "Simulation Loop"
   ]
  },
  {
   "cell_type": "code",
   "execution_count": null,
   "id": "b00bd5a0",
   "metadata": {},
   "outputs": [],
   "source": [
    "for i in range(0,NSteps+1):\n",
    "\n",
    "    print(MIRCoil_Offset + StepSize*i)\n",
    "    MIRCoil_Positions[i] = MIRCoil_Offset + StepSize*i\n",
    "\n",
    "    # Now, the finished input geometry can be displayed.\n",
    "    #femm.mi_zoomnatural()\n",
    "    femm.mi_zoom(-2,-50,50,50)\n",
    "    femm.mi_refreshview()\n",
    "\n",
    "    # We have to give the geometry a name before we can analyze it.\n",
    "    femm.mi_saveas('RevLVDT_VC_MIRCoil.fem')\n",
    "\n",
    "    # Now,analyze the problem and load the solution when the analysis is finished\n",
    "    femm.mi_analyze()\n",
    "    femm.mi_loadsolution()\n",
    "\n",
    "    if NSteps == 0:\n",
    "        # Show Density Plot:\n",
    "        femm.mo_showdensityplot(1, 0, 0.0001, 1.0E-9, \"bmag\")\n",
    "                #--legend,\t(0=hide, 1=show)\n",
    "                #--gscale,\t(0=color, 1=greyscale)\n",
    "                #--upper_B,\t(upperlimit for display)\n",
    "                #--lower_B,\t(lowerlimit for display)\n",
    "                #--type\t\t(\"bmag\", \"breal\", \"bimag\" FluxDensity)\n",
    "                #--\t\t\t(\"hmag\", \"hreal\", \"himag\" FieldIntensity)\n",
    "                #--\t\t\t(\"jmag\", \"jreal\", \"jimag\" CurrentDensity)\n",
    "        femm.mo_zoom(-2,-50,50,50)\n",
    "        femm.mo_refreshview()\n",
    "\n",
    "    # Retrieve the Force on the Upper-OutCoil\n",
    "    femm.mo_groupselectblock(1)\n",
    "    MIRCoil_Force19 = femm.mo_blockintegral(19)\n",
    "    femm.mo_clearblock()\n",
    "\n",
    "    # Retrieve the Force on the magnet\n",
    "    femm.mo_groupselectblock(2)\n",
    "    Magn_Force19 = femm.mo_blockintegral(19)\n",
    "    femm.mo_clearblock()\n",
    "\n",
    "    print(\"MIRCoil force = \", MIRCoil_Force19, \"Magnet force = \", Magn_Force19)\n",
    "    MIRCoil_Forces[i] = MIRCoil_Force19\n",
    "    Magnet_Forces[i] = Magn_Force19\n",
    "\n",
    "    # Translate inner coil to different distance\n",
    "    femm.mi_selectgroup(1)\n",
    "    femm.mi_movetranslate(0, StepSize)\n",
    "    femm.mi_clearselected()"
   ]
  },
  {
   "cell_type": "code",
   "execution_count": null,
   "id": "59cbed01",
   "metadata": {},
   "outputs": [],
   "source": [
    "print(MIRCoil_Positions)\n",
    "print(MIRCoil_Forces)\n",
    "print(Magnet_Forces)"
   ]
  },
  {
   "cell_type": "code",
   "execution_count": null,
   "id": "d1f80587",
   "metadata": {},
   "outputs": [],
   "source": [
    "if NSteps > 2:\n",
    "   MetaData[0] = NSteps\n",
    "   MetaData[1] = StepSize\n",
    "   MetaData[2] = MIRCoil_Current\n",
    "   np.savetxt(outputfile, (MIRCoil_Positions, MIRCoil_Forces, Magnet_Forces, MetaData))"
   ]
  },
  {
   "cell_type": "code",
   "execution_count": null,
   "id": "d0bfeb07",
   "metadata": {
    "scrolled": false
   },
   "outputs": [],
   "source": [
    "plt.style.use(['science','grid','notebook'])\n",
    "\n",
    "plt.plot(MIRCoil_Positions, MIRCoil_Forces, 'o-')\n",
    "plt.ylabel('MIR Coil Force [N]')\n",
    "plt.xlabel('MIRCoil Position [mm]')\n",
    "plt.show()\n",
    "\n",
    "plt.plot(MIRCoil_Positions, Magnet_Forces, 'o-')\n",
    "plt.ylabel('Magnet Force [N]')\n",
    "plt.xlabel('MIRCoil Position [mm]')\n",
    "plt.show()\n",
    "\n",
    "plt.plot(MIRCoil_Positions, Magnet_Forces/max(Magnet_Forces)*100, 'o-')\n",
    "plt.ylabel('Magnet Forces/max force [%]')\n",
    "plt.xlabel('Inner Coil Position [mm]')\n",
    "plt.show()"
   ]
  },
  {
   "cell_type": "code",
   "execution_count": null,
   "id": "2b97d4be",
   "metadata": {},
   "outputs": [],
   "source": [
    "def polyfunc(x, a, b, c):\n",
    "    return a*x**2 + b*x + c\n",
    "\n",
    "Norm_Magnet_Forces = Magnet_Forces/MIRCoil_Current \n",
    "optimizedParameters, pcov = opt.curve_fit(polyfunc, MIRCoil_Positions, Norm_Magnet_Forces)\n",
    "print(\"Fitted parameters of function:\", optimizedParameters)\n",
    "fitted_Norm_Magnet_Forces = polyfunc(MIRCoil_Positions, *optimizedParameters)\n",
    "\n",
    "plt.plot(MIRCoil_Positions, Norm_Magnet_Forces, label=\"simulation\")\n",
    "plt.plot(MIRCoil_Positions, fitted_Norm_Magnet_Forces, '--', label=\"poly2 fit\")\n",
    "plt.ylabel('Normalised Magnet Force [N/A]')\n",
    "plt.xlabel('Inner Coil Position [mm]')\n",
    "plt.legend()\n",
    "plt.show()\n",
    "\n",
    "plt.plot(MIRCoil_Positions, Norm_Magnet_Forces - fitted_Norm_Magnet_Forces)\n",
    "plt.ylabel('Fit error [N/A]')\n",
    "plt.xlabel('Inner Coil Position [mm]')\n",
    "plt.show()\n",
    "\n",
    "plt.plot(MIRCoil_Positions, abs(Norm_Magnet_Forces - fitted_Norm_Magnet_Forces)/abs(Norm_Magnet_Forces)*100)\n",
    "plt.ylabel('Normalised Fit error [%]')\n",
    "plt.xlabel('Inner Coil Position [mm]')\n",
    "plt.ylim(0.0,20)\n",
    "plt.show()"
   ]
  },
  {
   "cell_type": "code",
   "execution_count": null,
   "id": "5aea40a6",
   "metadata": {},
   "outputs": [],
   "source": [
    "femm.closefemm()"
   ]
  }
 ],
 "metadata": {
  "kernelspec": {
   "display_name": "py39",
   "language": "python",
   "name": "python3"
  },
  "language_info": {
   "codemirror_mode": {
    "name": "ipython",
    "version": 3
   },
   "file_extension": ".py",
   "mimetype": "text/x-python",
   "name": "python",
   "nbconvert_exporter": "python",
   "pygments_lexer": "ipython3",
   "version": "3.9.13"
  },
  "vscode": {
   "interpreter": {
    "hash": "6dadcc676209dbbe18659c3edbb7f275c7243795dbe5aad3d03ab8863e06bff0"
   }
  }
 },
 "nbformat": 4,
 "nbformat_minor": 5
}
