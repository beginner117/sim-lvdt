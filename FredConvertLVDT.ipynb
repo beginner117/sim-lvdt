{
 "cells": [
  {
   "cell_type": "code",
   "execution_count": 1,
   "id": "bbbd1d0c-ce7d-43d1-8ba0-ed4b0ee9bef4",
   "metadata": {},
   "outputs": [
    {
     "name": "stdout",
     "output_type": "stream",
     "text": [
      "10 1.0 0.02\n",
      "[-5. -4. -3. -2. -1.  0.  1.  2.  3.  4.  5.]\n",
      "[0.726534+11.937327j 0.726794+11.93736j  0.727072+11.937389j\n",
      " 0.727367+11.937411j 0.727678+11.937452j 0.728003+11.937451j\n",
      " 0.728343+11.937483j 0.728696+11.93751j  0.72906 +11.937529j\n",
      " 0.729434+11.937547j 0.729815+11.937587j]\n",
      "[-0.729815-11.937669j -0.729434-11.937657j -0.72906 -11.937625j\n",
      " -0.728696-11.937579j -0.728343-11.93751j  -0.728003-11.937534j\n",
      " -0.727678-11.937542j -0.727367-11.93747j  -0.727072-11.937491j\n",
      " -0.726794-11.937424j -0.726533-11.937424j]\n",
      "[-9.39720e-03-3.7416325e-01j -7.54553e-03-3.0013047e-01j\n",
      " -5.67516e-03-2.2555682e-01j -3.79035e-03-1.5058805e-01j\n",
      " -1.89683e-03-7.5357130e-02j  8.40000e-07-6.9100000e-06j\n",
      "  1.89828e-03+7.5359000e-02j  3.79088e-03+1.5058627e-01j\n",
      "  5.67570e-03+2.2555732e-01j  7.54548e-03+3.0012239e-01j\n",
      "  9.39880e-03+3.7415683e-01j]\n"
     ]
    }
   ],
   "source": [
    "import numpy as np\n",
    "\n",
    "directory = \"C:\\\\Users\\lvdt\\RevLVDT_VIRGOmodel_TEST\\FEMM_LUA_Sources_and_Data\\\\\"\n",
    "filename = \"Results_RevLVDT_FEMM_10kHz_Move_MiddCoil+Magnet_ETpfLVDT.txt\"\n",
    "outputfile = \"NP\" + filename\n",
    "\n",
    "OutCoil_Current = 0\n",
    "NSteps = 0\n",
    "InnCoil_Positions = []\n",
    "UppOutCoil_Voltages = []\n",
    "LowOutCoil_Voltages = [] \n",
    "InnCoil_Voltages = []\n",
    "\n",
    "with open(directory + filename) as f:\n",
    "    for line in f:\n",
    "        if \"Excit.current\" in line: OutCoil_Current = float(line.split(\" \")[3])\n",
    "        if \"Nr steps:\" in line: NSteps = int(line.split(\":\")[1])\n",
    "        str_array = line.split(\"\\t\")\n",
    "        if len(str_array) == 5 and str_array[0] != \"Step\":\n",
    "            #print(line)\n",
    "            InnCoil_Positions.append(float(str_array[1]))\n",
    "            cns2 = str_array[2].replace('I*','')\n",
    "            cns2 = cns2 + \"j\"\n",
    "            \n",
    "            UppOutCoil_Voltages.append(complex(cns2))\n",
    "            cns3 = str_array[3].replace('I*','')\n",
    "            cns3 = cns3 + \"j\"\n",
    "            LowOutCoil_Voltages.append(complex(cns3))\n",
    "            cns4 = str_array[4].replace('I*','')\n",
    "            cns4 = cns4.replace('\\n','')\n",
    "            cns4 = cns4 + \"j\"\n",
    "            InnCoil_Voltages.append(complex(cns4))\n",
    "\n",
    "f.close()\n",
    "\n",
    "MetaData = np.zeros(NSteps+1)\n",
    "StepSize = InnCoil_Positions[1] - InnCoil_Positions[0]\n",
    "print(NSteps, StepSize, OutCoil_Current)\n",
    "InnCoil_Positions = np.array(InnCoil_Positions)\n",
    "UppOutCoil_Voltages = np.array(UppOutCoil_Voltages)\n",
    "LowOutCoil_Voltages = np.array(LowOutCoil_Voltages)\n",
    "InnCoil_Voltages = np.array(InnCoil_Voltages)\n",
    "print(InnCoil_Positions)\n",
    "print(UppOutCoil_Voltages)\n",
    "print(LowOutCoil_Voltages)\n",
    "print(InnCoil_Voltages)\n",
    "\n",
    "if NSteps > 2:\n",
    "    MetaData[0] = NSteps\n",
    "    MetaData[1] = StepSize\n",
    "    MetaData[2] = OutCoil_Current\n",
    "    np.savetxt(outputfile, (InnCoil_Positions, UppOutCoil_Voltages, LowOutCoil_Voltages, InnCoil_Voltages, MetaData))"
   ]
  },
  {
   "cell_type": "code",
   "execution_count": null,
   "id": "013f56bf-7af5-4c49-88af-b0db1ccb05fa",
   "metadata": {},
   "outputs": [],
   "source": []
  }
 ],
 "metadata": {
  "kernelspec": {
   "display_name": "Python 3",
   "language": "python",
   "name": "python3"
  },
  "language_info": {
   "codemirror_mode": {
    "name": "ipython",
    "version": 3
   },
   "file_extension": ".py",
   "mimetype": "text/x-python",
   "name": "python",
   "nbconvert_exporter": "python",
   "pygments_lexer": "ipython3",
   "version": "3.7.3"
  }
 },
 "nbformat": 4,
 "nbformat_minor": 5
}
